{
 "cells": [
  {
   "cell_type": "code",
   "execution_count": 1,
   "id": "caroline-worry",
   "metadata": {},
   "outputs": [
    {
     "data": {
      "text/plain": [
       "<Tensor array([[2., 2., 2., 2.],\n",
       "       [2., 2., 2., 2.],\n",
       "       [2., 2., 2., 2.],\n",
       "       [2., 2., 2., 2.]], dtype=float32) with grad None>"
      ]
     },
     "execution_count": 1,
     "metadata": {},
     "output_type": "execute_result"
    }
   ],
   "source": [
    "from tinygrad.tensor import Tensor\n",
    "(Tensor.ones(4,4).gpu() + Tensor.ones(4,4).gpu()).cpu()\n",
    "\n"
   ]
  },
  {
   "cell_type": "code",
   "execution_count": 1,
   "id": "be67da40-1330-40fd-8361-18560aa3de86",
   "metadata": {},
   "outputs": [
    {
     "name": "stdout",
     "output_type": "stream",
     "text": [
      "WARNING:tensorflow:Eager mode uses the CPU. Switching to the CPU.\n",
      "x_train shape: (60000, 28, 28, 1)\n",
      "60000 train samples\n",
      "10000 test samples\n"
     ]
    }
   ],
   "source": [
    "import tensorflow as tf1\n",
    "from tensorflow.python.compiler.mlcompute import mlcompute\n",
    "mlcompute.is_tf_compiled_with_apple_mlc()\n",
    "\n",
    "from tensorflow.python.framework.ops import disable_eager_execution\n",
    "\n",
    "import tensorflow.compat.v2 as tf\n",
    "tf.enable_v2_behavior()\n",
    "\n",
    "to_categorical = tf.keras.utils.to_categorical\n",
    "fashion_mnist = tf.keras.datasets.fashion_mnist\n",
    "\n",
    "import time\n",
    "\n",
    "mlcompute.set_mlc_device(device_name='GPU')\n",
    "tf.executing_eagerly()\n",
    "batch_size = 128\n",
    "num_classes = 10\n",
    "epochs = 5\n",
    "\n",
    "img_rows, img_cols = 28, 28\n",
    "(x_train, y_train), (x_test, y_test) = fashion_mnist.load_data()\n",
    "x_train.shape, x_test.shape\n",
    "x_train = x_train.reshape(x_train.shape[0], img_rows, img_cols, 1)\n",
    "x_test = x_test.reshape(x_test.shape[0], img_rows, img_cols, 1)\n",
    "input_shape = (img_rows, img_cols, 1)\n",
    "\n",
    "x_train = x_train.astype('float32')\n",
    "x_test = x_test.astype('float32')\n",
    "x_train /= 255\n",
    "x_test /= 255\n",
    "print('x_train shape:', x_train.shape)\n",
    "print(x_train.shape[0], 'train samples')\n",
    "print(x_test.shape[0], 'test samples')\n",
    "\n"
   ]
  },
  {
   "cell_type": "code",
   "execution_count": 2,
   "id": "7b027f33-560e-4257-ac4a-04731cf48d38",
   "metadata": {},
   "outputs": [
    {
     "name": "stdout",
     "output_type": "stream",
     "text": [
      "Model: \"sequential\"\n",
      "_________________________________________________________________\n",
      "Layer (type)                 Output Shape              Param #   \n",
      "=================================================================\n",
      "conv2d (Conv2D)              (None, 26, 26, 32)        320       \n",
      "_________________________________________________________________\n",
      "conv2d_1 (Conv2D)            (None, 24, 24, 64)        18496     \n",
      "_________________________________________________________________\n",
      "max_pooling2d (MaxPooling2D) (None, 12, 12, 64)        0         \n",
      "_________________________________________________________________\n",
      "dropout (Dropout)            (None, 12, 12, 64)        0         \n",
      "_________________________________________________________________\n",
      "flatten (Flatten)            (None, 9216)              0         \n",
      "_________________________________________________________________\n",
      "dense (Dense)                (None, 128)               1179776   \n",
      "_________________________________________________________________\n",
      "dropout_1 (Dropout)          (None, 128)               0         \n",
      "_________________________________________________________________\n",
      "dense_1 (Dense)              (None, 10)                1290      \n",
      "=================================================================\n",
      "Total params: 1,199,882\n",
      "Trainable params: 1,199,882\n",
      "Non-trainable params: 0\n",
      "_________________________________________________________________\n"
     ]
    }
   ],
   "source": [
    "y_train = to_categorical(y_train, num_classes)\n",
    "y_test = to_categorical(y_test, num_classes)\n",
    "model = tf.keras.Sequential([ \n",
    "    tf.keras.layers.Conv2D(32, kernel_size=(3, 3), activation=\"relu\", input_shape=input_shape),\n",
    "    tf.keras.layers.Conv2D(64, kernel_size=(3, 3), activation=\"relu\"),\n",
    "    tf.keras.layers.MaxPooling2D(),\n",
    "    tf.keras.layers.Dropout(0.25),\n",
    "    tf.keras.layers.Flatten(),\n",
    "    tf.keras.layers.Dense(128, activation='relu'),\n",
    "    tf.keras.layers.Dropout(0.5),\n",
    "    tf.keras.layers.Dense(num_classes, activation=\"softmax\")\n",
    "])\n",
    "model.compile(loss=\"categorical_crossentropy\", optimizer=tf.keras.optimizers.Adam(), metrics=[\"accuracy\"])\n",
    "model.summary()"
   ]
  },
  {
   "cell_type": "code",
   "execution_count": 4,
   "id": "51a0517c-c370-41d3-8d6d-97864d5ec597",
   "metadata": {},
   "outputs": [
    {
     "name": "stdout",
     "output_type": "stream",
     "text": [
      "Epoch 1/5\n",
      "375/375 [==============================] - 18s 48ms/step - loss: 1.5916 - accuracy: 0.5270 - val_loss: 0.5309 - val_accuracy: 0.8105\n",
      "Epoch 2/5\n",
      "375/375 [==============================] - 17s 46ms/step - loss: 0.5370 - accuracy: 0.8113 - val_loss: 0.4139 - val_accuracy: 0.8523\n",
      "Epoch 3/5\n",
      "375/375 [==============================] - 17s 45ms/step - loss: 0.4294 - accuracy: 0.8492 - val_loss: 0.3471 - val_accuracy: 0.8733\n",
      "Epoch 4/5\n",
      "375/375 [==============================] - 17s 46ms/step - loss: 0.3794 - accuracy: 0.8647 - val_loss: 0.3298 - val_accuracy: 0.8810\n",
      "Epoch 5/5\n",
      "375/375 [==============================] - 16s 44ms/step - loss: 0.3467 - accuracy: 0.8777 - val_loss: 0.3071 - val_accuracy: 0.8857\n"
     ]
    }
   ],
   "source": [
    "start = time.time()\n",
    "model.fit(x_train, y_train, batch_size=batch_size, epochs=5, verbose=1, validation_split=0.2, shuffle= True)\n",
    "done = time.time()"
   ]
  },
  {
   "cell_type": "code",
   "execution_count": 3,
   "id": "municipal-texas",
   "metadata": {},
   "outputs": [
    {
     "name": "stdout",
     "output_type": "stream",
     "text": [
      "['/device:CPU:0']\n"
     ]
    }
   ],
   "source": [
    "from tensorflow.python.client import device_lib\n",
    "def get_available_devices():\n",
    "    local_device_protos = device_lib.list_local_devices()\n",
    "    return [x.name for x in local_device_protos]\n",
    "print(get_available_devices())\n",
    "\n"
   ]
  },
  {
   "cell_type": "code",
   "execution_count": 4,
   "id": "incorporated-professional",
   "metadata": {},
   "outputs": [
    {
     "name": "stdout",
     "output_type": "stream",
     "text": [
      "3.8.6 | packaged by conda-forge | (default, Jan 25 2021, 22:55:00) \n",
      "[Clang 11.0.1 ]\n",
      "2.4.0-rc0\n"
     ]
    }
   ],
   "source": [
    "import sys\n",
    "print (sys.version)\n",
    "# 3.6.4 |Anaconda custom (64-bit)| (default, Jan 16 2018, 10:22:32) [MSC v.1900 64 bit (AMD64)]\n",
    "import tensorflow as tf\n",
    "print(tf.__version__)"
   ]
  },
  {
   "cell_type": "code",
   "execution_count": 5,
   "id": "referenced-immunology",
   "metadata": {},
   "outputs": [
    {
     "name": "stdout",
     "output_type": "stream",
     "text": [
      "tf version 2.4.0-rc0\n",
      "TF cannot find GPU\n"
     ]
    }
   ],
   "source": [
    "import tensorflow as tf\n",
    "from tensorflow import keras\n",
    "print(\"tf version {}\".format(tf.__version__))\n",
    "if tf.config.list_physical_devices('GPU'):\n",
    "    print(tf.test.gpu_device_name())\n",
    "else:\n",
    "    print(\"TF cannot find GPU\")"
   ]
  },
  {
   "cell_type": "code",
   "execution_count": 6,
   "id": "yellow-definition",
   "metadata": {},
   "outputs": [
    {
     "name": "stdout",
     "output_type": "stream",
     "text": [
      "GPU device not found\n",
      "Found GPU at: \n"
     ]
    }
   ],
   "source": [
    "import tensorflow as tf\n",
    "device_name = tf.test.gpu_device_name()\n",
    "if device_name != '/device:GPU:0':\n",
    "   print('GPU device not found')\n",
    "print('Found GPU at: {}'.format(device_name))"
   ]
  },
  {
   "cell_type": "code",
   "execution_count": 7,
   "id": "completed-calendar",
   "metadata": {},
   "outputs": [
    {
     "name": "stdout",
     "output_type": "stream",
     "text": [
      "False\n"
     ]
    }
   ],
   "source": [
    "from tensorflow.python.compiler.mlcompute import mlcompute\n",
    "import tensorflow as tf \n",
    "from tensorflow.python.framework.ops import disable_eager_execution \n",
    "disable_eager_execution() \n",
    "print(tf.executing_eagerly())"
   ]
  },
  {
   "cell_type": "code",
   "execution_count": 8,
   "id": "rental-indie",
   "metadata": {},
   "outputs": [
    {
     "name": "stdout",
     "output_type": "stream",
     "text": [
      "[]\n"
     ]
    }
   ],
   "source": [
    "physical_devices = tf.config.experimental.list_physical_devices('GPU')\n",
    "print(physical_devices)\n",
    "if physical_devices:\n",
    "  tf.config.experimental.set_memory_growth(physical_devices[0], True)"
   ]
  },
  {
   "cell_type": "code",
   "execution_count": 9,
   "id": "hundred-paper",
   "metadata": {},
   "outputs": [
    {
     "name": "stdout",
     "output_type": "stream",
     "text": [
      "Train on 60000 samples, validate on 10000 samples\n",
      "Epoch 1/10\n",
      "59872/60000 [============================>.] - ETA: 0s - loss: 0.2387 - accuracy: 0.9295"
     ]
    },
    {
     "name": "stderr",
     "output_type": "stream",
     "text": [
      "/Users/elahe/miniforge3/envs/tf24/lib/python3.8/site-packages/tensorflow/python/keras/engine/training.py:2325: UserWarning: `Model.state_updates` will be removed in a future version. This property should not be used in TensorFlow 2.0, as `updates` are applied automatically.\n",
      "  warnings.warn('`Model.state_updates` will be removed in a future version. '\n"
     ]
    },
    {
     "name": "stdout",
     "output_type": "stream",
     "text": [
      "60000/60000 [==============================] - 7s 114us/sample - loss: 0.2384 - accuracy: 0.9295 - val_loss: 0.1381 - val_accuracy: 0.9566\n",
      "Epoch 2/10\n",
      "60000/60000 [==============================] - 6s 106us/sample - loss: 0.1009 - accuracy: 0.9691 - val_loss: 0.0912 - val_accuracy: 0.9717\n",
      "Epoch 3/10\n",
      "60000/60000 [==============================] - 7s 119us/sample - loss: 0.0694 - accuracy: 0.9784 - val_loss: 0.0883 - val_accuracy: 0.9733\n",
      "Epoch 4/10\n",
      "60000/60000 [==============================] - 8s 137us/sample - loss: 0.0532 - accuracy: 0.9831 - val_loss: 0.0802 - val_accuracy: 0.9771\n",
      "Epoch 5/10\n",
      "60000/60000 [==============================] - 10s 171us/sample - loss: 0.0396 - accuracy: 0.9873 - val_loss: 0.0751 - val_accuracy: 0.9777\n",
      "Epoch 6/10\n",
      "60000/60000 [==============================] - 10s 168us/sample - loss: 0.0346 - accuracy: 0.9884 - val_loss: 0.0824 - val_accuracy: 0.9771\n",
      "Epoch 7/10\n",
      "60000/60000 [==============================] - 10s 164us/sample - loss: 0.0288 - accuracy: 0.9906 - val_loss: 0.0944 - val_accuracy: 0.9755\n",
      "Epoch 8/10\n",
      "60000/60000 [==============================] - 12s 194us/sample - loss: 0.0235 - accuracy: 0.9924 - val_loss: 0.0777 - val_accuracy: 0.9802\n",
      "Epoch 9/10\n",
      "60000/60000 [==============================] - 12s 192us/sample - loss: 0.0205 - accuracy: 0.9929 - val_loss: 0.1011 - val_accuracy: 0.9779\n",
      "Epoch 10/10\n",
      "60000/60000 [==============================] - 8s 127us/sample - loss: 0.0194 - accuracy: 0.9936 - val_loss: 0.0909 - val_accuracy: 0.9779\n"
     ]
    }
   ],
   "source": [
    "import tensorflow as tf\n",
    "from tensorflow.keras import datasets, layers, models\n",
    "\n",
    "(train_images, train_labels), (test_images, test_labels) = datasets.mnist.load_data()\n",
    "train_images, test_images = train_images / 255.0, test_images / 255.0\n",
    "\n",
    "\n",
    "\n",
    "model = models.Sequential([\n",
    "    layers.Flatten(input_shape=(28, 28)),\n",
    "    layers.Dense(128, activation='relu'),\n",
    "    layers.Dense(64, activation='relu'),\n",
    "    layers.Dense(10)\n",
    "])\n",
    "model.compile(\n",
    "    optimizer='adam',\n",
    "    loss=tf.keras.losses.SparseCategoricalCrossentropy(from_logits=True),\n",
    "    metrics=['accuracy']\n",
    ")\n",
    "history = model.fit(\n",
    "    train_images, \n",
    "    train_labels, \n",
    "    epochs=10, \n",
    "    validation_data=(test_images, test_labels)\n",
    ")"
   ]
  },
  {
   "cell_type": "code",
   "execution_count": 10,
   "id": "approximate-frequency",
   "metadata": {},
   "outputs": [
    {
     "name": "stdout",
     "output_type": "stream",
     "text": [
      "Train on 60000 samples, validate on 10000 samples\n",
      "Epoch 1/100\n",
      "60000/60000 [==============================] - 7s 124us/sample - loss: 0.4971 - accuracy: 0.8218 - val_loss: 0.4095 - val_accuracy: 0.8532\n",
      "Epoch 2/100\n",
      "60000/60000 [==============================] - 8s 125us/sample - loss: 0.3670 - accuracy: 0.8656 - val_loss: 0.3935 - val_accuracy: 0.8602\n",
      "Epoch 3/100\n",
      "60000/60000 [==============================] - 9s 152us/sample - loss: 0.3342 - accuracy: 0.8774 - val_loss: 0.3678 - val_accuracy: 0.8672\n",
      "Epoch 4/100\n",
      "60000/60000 [==============================] - 8s 136us/sample - loss: 0.3088 - accuracy: 0.8861 - val_loss: 0.3763 - val_accuracy: 0.8640\n",
      "Epoch 5/100\n",
      "60000/60000 [==============================] - 10s 159us/sample - loss: 0.2898 - accuracy: 0.8923 - val_loss: 0.3499 - val_accuracy: 0.8766\n",
      "Epoch 6/100\n",
      "60000/60000 [==============================] - 9s 149us/sample - loss: 0.2770 - accuracy: 0.8962 - val_loss: 0.3393 - val_accuracy: 0.8787\n",
      "Epoch 7/100\n",
      "60000/60000 [==============================] - 7s 124us/sample - loss: 0.2644 - accuracy: 0.9017 - val_loss: 0.3445 - val_accuracy: 0.8831\n",
      "Epoch 8/100\n",
      "60000/60000 [==============================] - 6s 93us/sample - loss: 0.2546 - accuracy: 0.9039 - val_loss: 0.3297 - val_accuracy: 0.8831\n",
      "Epoch 9/100\n",
      "60000/60000 [==============================] - 10s 162us/sample - loss: 0.2437 - accuracy: 0.9083 - val_loss: 0.3392 - val_accuracy: 0.8833\n",
      "Epoch 10/100\n",
      "60000/60000 [==============================] - 11s 189us/sample - loss: 0.2352 - accuracy: 0.9107 - val_loss: 0.3585 - val_accuracy: 0.8787\n",
      "Epoch 11/100\n",
      "60000/60000 [==============================] - 11s 184us/sample - loss: 0.2288 - accuracy: 0.9136 - val_loss: 0.3525 - val_accuracy: 0.8755\n",
      "Epoch 12/100\n",
      "60000/60000 [==============================] - 11s 178us/sample - loss: 0.2200 - accuracy: 0.9161 - val_loss: 0.3426 - val_accuracy: 0.8861\n",
      "Epoch 13/100\n",
      "60000/60000 [==============================] - 9s 155us/sample - loss: 0.2152 - accuracy: 0.9178 - val_loss: 0.3314 - val_accuracy: 0.8890\n",
      "Epoch 14/100\n",
      "60000/60000 [==============================] - 10s 163us/sample - loss: 0.2091 - accuracy: 0.9207 - val_loss: 0.3413 - val_accuracy: 0.8883\n",
      "Epoch 15/100\n",
      "60000/60000 [==============================] - 10s 162us/sample - loss: 0.2020 - accuracy: 0.9230 - val_loss: 0.3352 - val_accuracy: 0.8905\n",
      "Epoch 16/100\n",
      "60000/60000 [==============================] - 11s 181us/sample - loss: 0.1974 - accuracy: 0.9254 - val_loss: 0.3642 - val_accuracy: 0.8833\n",
      "Epoch 17/100\n",
      "60000/60000 [==============================] - 11s 189us/sample - loss: 0.1904 - accuracy: 0.9279 - val_loss: 0.3464 - val_accuracy: 0.8880\n",
      "Epoch 18/100\n",
      "60000/60000 [==============================] - 10s 166us/sample - loss: 0.1847 - accuracy: 0.9294 - val_loss: 0.3529 - val_accuracy: 0.8897\n",
      "Epoch 19/100\n",
      "60000/60000 [==============================] - 10s 163us/sample - loss: 0.1798 - accuracy: 0.9316 - val_loss: 0.3505 - val_accuracy: 0.8915\n",
      "Epoch 20/100\n",
      "60000/60000 [==============================] - 10s 174us/sample - loss: 0.1781 - accuracy: 0.9327 - val_loss: 0.3918 - val_accuracy: 0.8865\n",
      "Epoch 21/100\n",
      "60000/60000 [==============================] - 11s 191us/sample - loss: 0.1719 - accuracy: 0.9340 - val_loss: 0.3712 - val_accuracy: 0.8848\n",
      "Epoch 22/100\n",
      "60000/60000 [==============================] - 13s 220us/sample - loss: 0.1672 - accuracy: 0.9356 - val_loss: 0.3568 - val_accuracy: 0.8948\n",
      "Epoch 23/100\n",
      "60000/60000 [==============================] - 11s 182us/sample - loss: 0.1628 - accuracy: 0.9387 - val_loss: 0.3496 - val_accuracy: 0.8961\n",
      "Epoch 24/100\n",
      "60000/60000 [==============================] - 12s 194us/sample - loss: 0.1574 - accuracy: 0.9393 - val_loss: 0.3842 - val_accuracy: 0.8869\n",
      "Epoch 25/100\n",
      "60000/60000 [==============================] - 10s 174us/sample - loss: 0.1566 - accuracy: 0.9403 - val_loss: 0.3896 - val_accuracy: 0.8861\n",
      "Epoch 26/100\n",
      "60000/60000 [==============================] - 11s 179us/sample - loss: 0.1532 - accuracy: 0.9407 - val_loss: 0.4155 - val_accuracy: 0.8875\n",
      "Epoch 27/100\n",
      "60000/60000 [==============================] - 10s 171us/sample - loss: 0.1502 - accuracy: 0.9424 - val_loss: 0.3939 - val_accuracy: 0.8911\n",
      "Epoch 28/100\n",
      "60000/60000 [==============================] - 10s 166us/sample - loss: 0.1457 - accuracy: 0.9442 - val_loss: 0.4144 - val_accuracy: 0.8906\n",
      "Epoch 29/100\n",
      "60000/60000 [==============================] - 11s 181us/sample - loss: 0.1443 - accuracy: 0.9446 - val_loss: 0.4004 - val_accuracy: 0.8886\n",
      "Epoch 30/100\n",
      "60000/60000 [==============================] - 10s 168us/sample - loss: 0.1407 - accuracy: 0.9455 - val_loss: 0.4050 - val_accuracy: 0.8907\n",
      "Epoch 31/100\n",
      "60000/60000 [==============================] - 11s 183us/sample - loss: 0.1367 - accuracy: 0.9478 - val_loss: 0.4176 - val_accuracy: 0.8878\n",
      "Epoch 32/100\n",
      "60000/60000 [==============================] - 10s 169us/sample - loss: 0.1334 - accuracy: 0.9491 - val_loss: 0.4484 - val_accuracy: 0.8871\n",
      "Epoch 33/100\n",
      "60000/60000 [==============================] - 10s 170us/sample - loss: 0.1318 - accuracy: 0.9497 - val_loss: 0.4509 - val_accuracy: 0.8937\n",
      "Epoch 34/100\n",
      "60000/60000 [==============================] - 11s 181us/sample - loss: 0.1290 - accuracy: 0.9502 - val_loss: 0.4237 - val_accuracy: 0.8933\n",
      "Epoch 35/100\n",
      "60000/60000 [==============================] - 10s 164us/sample - loss: 0.1280 - accuracy: 0.9512 - val_loss: 0.4379 - val_accuracy: 0.8983\n",
      "Epoch 36/100\n",
      "60000/60000 [==============================] - 11s 182us/sample - loss: 0.1225 - accuracy: 0.9539 - val_loss: 0.4437 - val_accuracy: 0.8925\n",
      "Epoch 37/100\n",
      "60000/60000 [==============================] - 10s 168us/sample - loss: 0.1244 - accuracy: 0.9530 - val_loss: 0.4474 - val_accuracy: 0.8948\n",
      "Epoch 38/100\n",
      "60000/60000 [==============================] - 10s 167us/sample - loss: 0.1199 - accuracy: 0.9553 - val_loss: 0.4908 - val_accuracy: 0.8864\n",
      "Epoch 39/100\n",
      "60000/60000 [==============================] - 11s 180us/sample - loss: 0.1171 - accuracy: 0.9545 - val_loss: 0.4471 - val_accuracy: 0.8912\n",
      "Epoch 40/100\n",
      "60000/60000 [==============================] - 10s 168us/sample - loss: 0.1167 - accuracy: 0.9551 - val_loss: 0.4927 - val_accuracy: 0.8952\n",
      "Epoch 41/100\n",
      "60000/60000 [==============================] - 10s 175us/sample - loss: 0.1128 - accuracy: 0.9563 - val_loss: 0.5176 - val_accuracy: 0.8870\n",
      "Epoch 42/100\n",
      "60000/60000 [==============================] - 10s 169us/sample - loss: 0.1129 - accuracy: 0.9574 - val_loss: 0.4906 - val_accuracy: 0.8891\n",
      "Epoch 43/100\n",
      "60000/60000 [==============================] - 10s 168us/sample - loss: 0.1101 - accuracy: 0.9576 - val_loss: 0.4838 - val_accuracy: 0.8913\n",
      "Epoch 44/100\n",
      "60000/60000 [==============================] - 12s 197us/sample - loss: 0.1087 - accuracy: 0.9594 - val_loss: 0.4950 - val_accuracy: 0.8922\n",
      "Epoch 45/100\n",
      "60000/60000 [==============================] - 10s 172us/sample - loss: 0.1071 - accuracy: 0.9584 - val_loss: 0.5064 - val_accuracy: 0.8901\n",
      "Epoch 46/100\n",
      "60000/60000 [==============================] - 12s 197us/sample - loss: 0.1066 - accuracy: 0.9596 - val_loss: 0.4826 - val_accuracy: 0.8935\n",
      "Epoch 47/100\n",
      "60000/60000 [==============================] - 10s 166us/sample - loss: 0.1040 - accuracy: 0.9600 - val_loss: 0.5080 - val_accuracy: 0.8921\n",
      "Epoch 48/100\n",
      "60000/60000 [==============================] - 11s 185us/sample - loss: 0.1019 - accuracy: 0.9612 - val_loss: 0.5484 - val_accuracy: 0.8884\n",
      "Epoch 49/100\n",
      "60000/60000 [==============================] - 10s 174us/sample - loss: 0.0978 - accuracy: 0.9620 - val_loss: 0.5028 - val_accuracy: 0.8920\n",
      "Epoch 50/100\n",
      "60000/60000 [==============================] - 10s 169us/sample - loss: 0.1017 - accuracy: 0.9616 - val_loss: 0.5590 - val_accuracy: 0.8884\n",
      "Epoch 51/100\n",
      "60000/60000 [==============================] - 13s 213us/sample - loss: 0.0940 - accuracy: 0.9642 - val_loss: 0.5495 - val_accuracy: 0.8927\n",
      "Epoch 52/100\n",
      "60000/60000 [==============================] - 11s 185us/sample - loss: 0.0951 - accuracy: 0.9635 - val_loss: 0.5370 - val_accuracy: 0.8904\n",
      "Epoch 53/100\n",
      "60000/60000 [==============================] - 11s 186us/sample - loss: 0.0956 - accuracy: 0.9633 - val_loss: 0.5652 - val_accuracy: 0.8901\n",
      "Epoch 54/100\n",
      "60000/60000 [==============================] - 11s 177us/sample - loss: 0.0944 - accuracy: 0.9638 - val_loss: 0.5904 - val_accuracy: 0.8871\n",
      "Epoch 55/100\n",
      "60000/60000 [==============================] - 12s 193us/sample - loss: 0.0932 - accuracy: 0.9643 - val_loss: 0.5594 - val_accuracy: 0.8905\n",
      "Epoch 56/100\n",
      "60000/60000 [==============================] - 11s 176us/sample - loss: 0.0905 - accuracy: 0.9651 - val_loss: 0.5772 - val_accuracy: 0.8890\n",
      "Epoch 57/100\n",
      "60000/60000 [==============================] - 12s 193us/sample - loss: 0.0907 - accuracy: 0.9660 - val_loss: 0.5786 - val_accuracy: 0.8929\n",
      "Epoch 58/100\n",
      "60000/60000 [==============================] - 11s 188us/sample - loss: 0.0866 - accuracy: 0.9671 - val_loss: 0.5696 - val_accuracy: 0.8936\n",
      "Epoch 59/100\n",
      "60000/60000 [==============================] - 12s 196us/sample - loss: 0.0881 - accuracy: 0.9670 - val_loss: 0.6318 - val_accuracy: 0.8912\n",
      "Epoch 60/100\n",
      "60000/60000 [==============================] - 13s 213us/sample - loss: 0.0862 - accuracy: 0.9665 - val_loss: 0.5889 - val_accuracy: 0.8930\n",
      "Epoch 61/100\n",
      "60000/60000 [==============================] - 12s 204us/sample - loss: 0.0875 - accuracy: 0.9668 - val_loss: 0.5699 - val_accuracy: 0.8922\n",
      "Epoch 62/100\n",
      "60000/60000 [==============================] - 13s 223us/sample - loss: 0.0834 - accuracy: 0.9686 - val_loss: 0.6032 - val_accuracy: 0.8904\n",
      "Epoch 63/100\n",
      "60000/60000 [==============================] - 12s 198us/sample - loss: 0.0811 - accuracy: 0.9688 - val_loss: 0.6102 - val_accuracy: 0.8832\n",
      "Epoch 64/100\n",
      "60000/60000 [==============================] - 12s 196us/sample - loss: 0.0839 - accuracy: 0.9682 - val_loss: 0.6810 - val_accuracy: 0.8887\n",
      "Epoch 65/100\n",
      "60000/60000 [==============================] - 13s 210us/sample - loss: 0.0832 - accuracy: 0.9689 - val_loss: 0.6675 - val_accuracy: 0.8902\n",
      "Epoch 66/100\n",
      "60000/60000 [==============================] - 13s 224us/sample - loss: 0.0783 - accuracy: 0.9708 - val_loss: 0.6600 - val_accuracy: 0.8851\n",
      "Epoch 67/100\n",
      "60000/60000 [==============================] - 12s 204us/sample - loss: 0.0755 - accuracy: 0.9715 - val_loss: 0.6302 - val_accuracy: 0.8904\n",
      "Epoch 68/100\n",
      "60000/60000 [==============================] - 12s 206us/sample - loss: 0.0773 - accuracy: 0.9707 - val_loss: 0.6243 - val_accuracy: 0.8886\n",
      "Epoch 69/100\n",
      "60000/60000 [==============================] - 12s 201us/sample - loss: 0.0794 - accuracy: 0.9701 - val_loss: 0.6796 - val_accuracy: 0.8880\n",
      "Epoch 70/100\n",
      "60000/60000 [==============================] - 12s 196us/sample - loss: 0.0784 - accuracy: 0.9708 - val_loss: 0.6580 - val_accuracy: 0.8892\n",
      "Epoch 71/100\n",
      "60000/60000 [==============================] - 13s 224us/sample - loss: 0.0716 - accuracy: 0.9725 - val_loss: 0.7092 - val_accuracy: 0.8890\n",
      "Epoch 72/100\n",
      "60000/60000 [==============================] - 12s 205us/sample - loss: 0.0744 - accuracy: 0.9720 - val_loss: 0.7030 - val_accuracy: 0.8853\n",
      "Epoch 73/100\n",
      "60000/60000 [==============================] - 12s 204us/sample - loss: 0.0745 - accuracy: 0.9717 - val_loss: 0.6491 - val_accuracy: 0.8906\n",
      "Epoch 74/100\n",
      "60000/60000 [==============================] - 12s 206us/sample - loss: 0.0717 - accuracy: 0.9730 - val_loss: 0.6989 - val_accuracy: 0.8925\n",
      "Epoch 75/100\n",
      "60000/60000 [==============================] - 13s 211us/sample - loss: 0.0734 - accuracy: 0.9724 - val_loss: 0.6782 - val_accuracy: 0.8873\n",
      "Epoch 76/100\n",
      "60000/60000 [==============================] - 13s 221us/sample - loss: 0.0692 - accuracy: 0.9742 - val_loss: 0.7167 - val_accuracy: 0.8934\n",
      "Epoch 77/100\n",
      "60000/60000 [==============================] - 12s 195us/sample - loss: 0.0701 - accuracy: 0.9740 - val_loss: 0.7027 - val_accuracy: 0.8888\n",
      "Epoch 78/100\n",
      "60000/60000 [==============================] - 14s 225us/sample - loss: 0.0693 - accuracy: 0.9746 - val_loss: 0.7248 - val_accuracy: 0.8943\n",
      "Epoch 79/100\n",
      "60000/60000 [==============================] - 13s 214us/sample - loss: 0.0653 - accuracy: 0.9753 - val_loss: 0.7309 - val_accuracy: 0.8857\n",
      "Epoch 80/100\n",
      "60000/60000 [==============================] - 12s 194us/sample - loss: 0.0708 - accuracy: 0.9741 - val_loss: 0.7316 - val_accuracy: 0.8933\n",
      "Epoch 81/100\n",
      "60000/60000 [==============================] - 13s 214us/sample - loss: 0.0646 - accuracy: 0.9750 - val_loss: 0.7107 - val_accuracy: 0.8937\n",
      "Epoch 82/100\n",
      "60000/60000 [==============================] - 12s 193us/sample - loss: 0.0678 - accuracy: 0.9751 - val_loss: 0.7517 - val_accuracy: 0.8917\n",
      "Epoch 83/100\n",
      "60000/60000 [==============================] - 13s 216us/sample - loss: 0.0674 - accuracy: 0.9751 - val_loss: 0.7846 - val_accuracy: 0.8913\n",
      "Epoch 84/100\n",
      "60000/60000 [==============================] - 12s 206us/sample - loss: 0.0621 - accuracy: 0.9768 - val_loss: 0.7613 - val_accuracy: 0.8930\n",
      "Epoch 85/100\n",
      "60000/60000 [==============================] - 12s 201us/sample - loss: 0.0668 - accuracy: 0.9750 - val_loss: 0.7660 - val_accuracy: 0.8939\n",
      "Epoch 86/100\n",
      "60000/60000 [==============================] - 13s 211us/sample - loss: 0.0668 - accuracy: 0.9756 - val_loss: 0.7870 - val_accuracy: 0.8929\n",
      "Epoch 87/100\n",
      "60000/60000 [==============================] - 12s 193us/sample - loss: 0.0596 - accuracy: 0.9774 - val_loss: 0.7813 - val_accuracy: 0.8881\n",
      "Epoch 88/100\n",
      "60000/60000 [==============================] - 13s 219us/sample - loss: 0.0640 - accuracy: 0.9760 - val_loss: 0.7580 - val_accuracy: 0.8889\n",
      "Epoch 89/100\n",
      "60000/60000 [==============================] - 13s 211us/sample - loss: 0.0584 - accuracy: 0.9780 - val_loss: 0.7408 - val_accuracy: 0.8924\n",
      "Epoch 90/100\n",
      "60000/60000 [==============================] - 12s 202us/sample - loss: 0.0640 - accuracy: 0.9762 - val_loss: 0.7746 - val_accuracy: 0.8932\n",
      "Epoch 91/100\n",
      "60000/60000 [==============================] - 13s 222us/sample - loss: 0.0615 - accuracy: 0.9766 - val_loss: 0.7795 - val_accuracy: 0.8927\n",
      "Epoch 92/100\n",
      "60000/60000 [==============================] - 11s 181us/sample - loss: 0.0618 - accuracy: 0.9772 - val_loss: 0.8426 - val_accuracy: 0.8877\n",
      "Epoch 93/100\n",
      "60000/60000 [==============================] - 12s 202us/sample - loss: 0.0607 - accuracy: 0.9771 - val_loss: 0.8067 - val_accuracy: 0.8946\n",
      "Epoch 94/100\n",
      "60000/60000 [==============================] - 12s 201us/sample - loss: 0.0563 - accuracy: 0.9782 - val_loss: 0.8035 - val_accuracy: 0.8879\n",
      "Epoch 95/100\n",
      "60000/60000 [==============================] - 11s 175us/sample - loss: 0.0581 - accuracy: 0.9781 - val_loss: 0.8009 - val_accuracy: 0.8942\n",
      "Epoch 96/100\n",
      "60000/60000 [==============================] - 12s 200us/sample - loss: 0.0562 - accuracy: 0.9793 - val_loss: 0.7873 - val_accuracy: 0.8889\n",
      "Epoch 97/100\n",
      "60000/60000 [==============================] - 11s 186us/sample - loss: 0.0591 - accuracy: 0.9785 - val_loss: 0.8293 - val_accuracy: 0.8897\n",
      "Epoch 98/100\n",
      "60000/60000 [==============================] - 11s 190us/sample - loss: 0.0586 - accuracy: 0.9777 - val_loss: 0.7996 - val_accuracy: 0.8888\n",
      "Epoch 99/100\n",
      "60000/60000 [==============================] - 12s 201us/sample - loss: 0.0547 - accuracy: 0.9801 - val_loss: 0.8340 - val_accuracy: 0.8893\n",
      "Epoch 100/100\n",
      "60000/60000 [==============================] - 10s 173us/sample - loss: 0.0568 - accuracy: 0.9787 - val_loss: 0.8509 - val_accuracy: 0.8896\n"
     ]
    }
   ],
   "source": [
    "\n",
    "import tensorflow as tf\n",
    "from tensorflow.keras import datasets, layers, models\n",
    "\n",
    "(train_images, train_labels), (test_images, test_labels) = datasets.fashion_mnist.load_data()\n",
    "train_images, test_images = train_images / 255.0, test_images / 255.0\n",
    "\n",
    "\n",
    "\n",
    "model = models.Sequential([\n",
    "    layers.Flatten(input_shape=(28, 28)),\n",
    "    layers.Dense(128, activation='relu'),\n",
    "    layers.Dense(64, activation='relu'),\n",
    "    layers.Dense(10)\n",
    "])\n",
    "model.compile(\n",
    "    optimizer='adam',\n",
    "    loss=tf.keras.losses.SparseCategoricalCrossentropy(from_logits=True),\n",
    "    metrics=['accuracy']\n",
    ")\n",
    "history = model.fit(\n",
    "    train_images, \n",
    "    train_labels, \n",
    "    epochs=100, \n",
    "    validation_data=(test_images, test_labels)\n",
    ")"
   ]
  },
  {
   "cell_type": "code",
   "execution_count": null,
   "id": "aging-amount",
   "metadata": {},
   "outputs": [],
   "source": [
    "\n"
   ]
  },
  {
   "cell_type": "code",
   "execution_count": null,
   "id": "24b82696-f16b-420b-9781-f40a2fec8183",
   "metadata": {},
   "outputs": [],
   "source": []
  }
 ],
 "metadata": {
  "kernelspec": {
   "display_name": "Python 3",
   "language": "python",
   "name": "python3"
  },
  "language_info": {
   "codemirror_mode": {
    "name": "ipython",
    "version": 3
   },
   "file_extension": ".py",
   "mimetype": "text/x-python",
   "name": "python",
   "nbconvert_exporter": "python",
   "pygments_lexer": "ipython3",
   "version": "3.8.2"
  }
 },
 "nbformat": 4,
 "nbformat_minor": 5
}
